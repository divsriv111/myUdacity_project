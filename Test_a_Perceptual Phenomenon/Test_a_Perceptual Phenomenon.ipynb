{
 "cells": [
  {
   "cell_type": "markdown",
   "metadata": {},
   "source": [
    "### Analyzing the Stroop Effect\n",
    "Perform the analysis in the space below. Remember to follow [the instructions](https://docs.google.com/document/d/1-OkpZLjG_kX9J6LIQ5IltsqMzVWjh36QpnP2RYpVdPU/pub?embedded=True) and review the [project rubric](https://review.udacity.com/#!/rubrics/71/view) before submitting. Once you've completed the analysis and write up, download this file as a PDF or HTML file and submit in the next section.\n",
    "\n",
    "\n",
    "**(1) What is the independent variable? What is the dependent variable?**"
   ]
  },
  {
   "cell_type": "markdown",
   "metadata": {},
   "source": [
    "*Independent variable:*\n",
    "The variable being manipulated is the word color congruency. i.e. Whether or not the word denoting the color matches with the color of the font. For example, if \"green\" was written in green font then it would be *congruent*, if any other color is used then it will be denoted as *incongruent*.\n",
    "\n",
    "*Dependent variables:*\n",
    "The time taken for participants to complete the congruent and incongruent tests."
   ]
  },
  {
   "cell_type": "markdown",
   "metadata": {},
   "source": [
    "**(2) What is an appropriate set of hypotheses for this task? What kind of statistical test do you expect to perform? Justify your choices.**"
   ]
  },
  {
   "cell_type": "markdown",
   "metadata": {},
   "source": [
    "**Null Hypothesis ( $H_{0}:\\mu_{1}=\\mu_{2}$)**\n",
    "* $H_{0}$:The average population of time it takes to name the ink colors in equally-sized lists for two groups(  congruent and incongruent) are equal.\n",
    "\n",
    "**Alternative Hypothesis ( $H_{0}:\\mu_{1}\\ne\\mu_{2}$)**\n",
    "* $H_{1}$ : The average population of time it takes to name the ink colors in equally-sized lists for two groups(  congruent and incongruent) are not equal.\n",
    "\n",
    "Statistical Test : dependent t-test (two tailed)\n",
    "Justification : \n",
    "* We need to compare the means of two related groups to determine the statistically significant difference between two means.\n",
    "* We are assuming normal distribution\n",
    "* There are less than 30 samples\n",
    "* it has to be two tailed because our hypothesis is testing equality of two means. "
   ]
  },
  {
   "cell_type": "markdown",
   "metadata": {},
   "source": [
    "**(3) Report some descriptive statistics regarding this dataset. Include at least one measure of central tendency and at least one measure of variability. The name of the data file is 'stroopdata.csv'.**"
   ]
  },
  {
   "cell_type": "code",
   "execution_count": 3,
   "metadata": {},
   "outputs": [
    {
     "name": "stdout",
     "output_type": "stream",
     "text": [
      "   Congruent  Incongruent\n",
      "0     12.079       19.278\n",
      "1     16.791       18.741\n",
      "2      9.564       21.214\n",
      "3      8.630       15.687\n",
      "4     14.669       22.803\n"
     ]
    },
    {
     "data": {
      "text/html": [
       "<div>\n",
       "<style scoped>\n",
       "    .dataframe tbody tr th:only-of-type {\n",
       "        vertical-align: middle;\n",
       "    }\n",
       "\n",
       "    .dataframe tbody tr th {\n",
       "        vertical-align: top;\n",
       "    }\n",
       "\n",
       "    .dataframe thead th {\n",
       "        text-align: right;\n",
       "    }\n",
       "</style>\n",
       "<table border=\"1\" class=\"dataframe\">\n",
       "  <thead>\n",
       "    <tr style=\"text-align: right;\">\n",
       "      <th></th>\n",
       "      <th>Congruent</th>\n",
       "      <th>Incongruent</th>\n",
       "      <th>difference</th>\n",
       "    </tr>\n",
       "  </thead>\n",
       "  <tbody>\n",
       "    <tr>\n",
       "      <th>count</th>\n",
       "      <td>24.000000</td>\n",
       "      <td>24.000000</td>\n",
       "      <td>24.000000</td>\n",
       "    </tr>\n",
       "    <tr>\n",
       "      <th>mean</th>\n",
       "      <td>14.051125</td>\n",
       "      <td>22.015917</td>\n",
       "      <td>7.964792</td>\n",
       "    </tr>\n",
       "    <tr>\n",
       "      <th>std</th>\n",
       "      <td>3.559358</td>\n",
       "      <td>4.797057</td>\n",
       "      <td>4.864827</td>\n",
       "    </tr>\n",
       "    <tr>\n",
       "      <th>min</th>\n",
       "      <td>8.630000</td>\n",
       "      <td>15.687000</td>\n",
       "      <td>1.950000</td>\n",
       "    </tr>\n",
       "    <tr>\n",
       "      <th>25%</th>\n",
       "      <td>11.895250</td>\n",
       "      <td>18.716750</td>\n",
       "      <td>3.645500</td>\n",
       "    </tr>\n",
       "    <tr>\n",
       "      <th>50%</th>\n",
       "      <td>14.356500</td>\n",
       "      <td>21.017500</td>\n",
       "      <td>7.666500</td>\n",
       "    </tr>\n",
       "    <tr>\n",
       "      <th>75%</th>\n",
       "      <td>16.200750</td>\n",
       "      <td>24.051500</td>\n",
       "      <td>10.258500</td>\n",
       "    </tr>\n",
       "    <tr>\n",
       "      <th>max</th>\n",
       "      <td>22.328000</td>\n",
       "      <td>35.255000</td>\n",
       "      <td>21.919000</td>\n",
       "    </tr>\n",
       "  </tbody>\n",
       "</table>\n",
       "</div>"
      ],
      "text/plain": [
       "       Congruent  Incongruent  difference\n",
       "count  24.000000    24.000000   24.000000\n",
       "mean   14.051125    22.015917    7.964792\n",
       "std     3.559358     4.797057    4.864827\n",
       "min     8.630000    15.687000    1.950000\n",
       "25%    11.895250    18.716750    3.645500\n",
       "50%    14.356500    21.017500    7.666500\n",
       "75%    16.200750    24.051500   10.258500\n",
       "max    22.328000    35.255000   21.919000"
      ]
     },
     "execution_count": 3,
     "metadata": {},
     "output_type": "execute_result"
    }
   ],
   "source": [
    "# importing libraries\n",
    "import pandas as pd\n",
    "import matplotlib.pyplot as plt\n",
    "import numpy\n",
    "from scipy import stats\n",
    "%matplotlib inline\n",
    "\n",
    "dframe = pd.read_csv('stroopdata.csv')    # read csv file and save to dframe variable\n",
    "print(dframe.head())   # print csv data (only some part just to be sure)\n",
    "dframe['difference'] = dframe['Incongruent'] - dframe['Congruent']\n",
    "dframe.describe()  # Describe shows a quick statistic summary of your data like mean, Q1, Q3, median, etc"
   ]
  },
  {
   "cell_type": "markdown",
   "metadata": {},
   "source": [
    "** Central Tendency **\n",
    "* congruent mean ($\\bar{x}_C) = 14.0511$\n",
    "* incongruent mean ($\\bar{x}_I)= 22.0159$\n",
    "\n",
    "** Measure of Variability **\n",
    "* congruent standard deviation ($s_C) = 3.5594$\n",
    "* incongruent standard deviation ($s_I) = 4.7971$"
   ]
  },
  {
   "cell_type": "markdown",
   "metadata": {},
   "source": [
    "**(4) Provide one or two visualizations that show the distribution of the sample data. Write one or two sentences noting what you observe about the plot or plots.**"
   ]
  },
  {
   "cell_type": "code",
   "execution_count": 4,
   "metadata": {},
   "outputs": [
    {
     "data": {
      "image/png": "[encoded data removed]",
      "text/plain": [
       "<matplotlib.figure.Figure at 0x297777014e0>"
      ]
     },
     "metadata": {},
     "output_type": "display_data"
    }
   ],
   "source": [
    "# Visualisation 1\n",
    "plt.hist(x=dframe[\"Congruent\"], label=\"congruent\",alpha=0.5, bins=12)\n",
    "plt.hist(x=dframe[\"Incongruent\"], label=\"incongruent\",alpha=0.5, bins=12)\n",
    "plt.title(\"Time taken to complete Stroop Test\")\n",
    "plt.ylabel(\"Frequency\")\n",
    "plt.xlabel(\"Time (s)\")\n",
    "plt.axvline(14.1, label=\"mean(congruent)\", )\n",
    "plt.axvline(22.0, label=\"mean(incongruent)\", color=\"green\")\n",
    "plt.legend();"
   ]
  },
  {
   "cell_type": "code",
   "execution_count": 5,
   "metadata": {},
   "outputs": [
    {
     "data": {
      "text/html": [
       "<div>\n",
       "<style scoped>\n",
       "    .dataframe tbody tr th:only-of-type {\n",
       "        vertical-align: middle;\n",
       "    }\n",
       "\n",
       "    .dataframe tbody tr th {\n",
       "        vertical-align: top;\n",
       "    }\n",
       "\n",
       "    .dataframe thead th {\n",
       "        text-align: right;\n",
       "    }\n",
       "</style>\n",
       "<table border=\"1\" class=\"dataframe\">\n",
       "  <thead>\n",
       "    <tr style=\"text-align: right;\">\n",
       "      <th></th>\n",
       "      <th>Congruent</th>\n",
       "      <th>Incongruent</th>\n",
       "      <th>difference</th>\n",
       "    </tr>\n",
       "  </thead>\n",
       "  <tbody>\n",
       "    <tr>\n",
       "      <th>14</th>\n",
       "      <td>18.200</td>\n",
       "      <td>35.255</td>\n",
       "      <td>17.055</td>\n",
       "    </tr>\n",
       "    <tr>\n",
       "      <th>19</th>\n",
       "      <td>12.369</td>\n",
       "      <td>34.288</td>\n",
       "      <td>21.919</td>\n",
       "    </tr>\n",
       "  </tbody>\n",
       "</table>\n",
       "</div>"
      ],
      "text/plain": [
       "    Congruent  Incongruent  difference\n",
       "14     18.200       35.255      17.055\n",
       "19     12.369       34.288      21.919"
      ]
     },
     "execution_count": 5,
     "metadata": {},
     "output_type": "execute_result"
    }
   ],
   "source": [
    "dframe[dframe[\"Incongruent\"] > 30]   # Number of outliers"
   ]
  },
  {
   "cell_type": "markdown",
   "metadata": {},
   "source": [
    "It seems that there are a couple of outliers who took more than 30secs to complete the incongruent tests.\n",
    "This will skew the mean of the right. The histogram does not make a very convincing bell-curve, which suggests that the sample size could probably be bigger.\n",
    "It seems that generally, people take much longer to complete the incongruent test."
   ]
  },
  {
   "cell_type": "code",
   "execution_count": 6,
   "metadata": {},
   "outputs": [
    {
     "data": {
      "image/png": "[encoded data removed]",
      "text/plain": [
       "<matplotlib.figure.Figure at 0x29777733978>"
      ]
     },
     "metadata": {},
     "output_type": "display_data"
    }
   ],
   "source": [
    "# Visualisation 2\n",
    "plt.hist(x=dframe[\"difference\"], alpha=0.5, bins=12)\n",
    "plt.title(\"Difference of time taken for inconguent and congruent tests\")\n",
    "plt.ylabel(\"Frequency\")\n",
    "plt.xlabel(\"Time (s)\")\n",
    "plt.axvline(7.96, label=\"mean\")\n",
    "plt.legend();"
   ]
  },
  {
   "cell_type": "markdown",
   "metadata": {},
   "source": [
    "Most people seem to take roughly 7.5 seconds longer on the incongruent test then on the congruent test.\n",
    "Though, there are a couple outliers who take much longer on the former than the latter.\n",
    "Most people probably take a second to learn not to look at the word but at the color, 6 people seem to be paticularly good at this!"
   ]
  },
  {
   "cell_type": "markdown",
   "metadata": {},
   "source": [
    "**(5) Now, perform the statistical test and report the results. What is the confidence level and your critical statistic value? Do you reject the null hypothesis or fail to reject it? Come to a conclusion in terms of the experiment task. Did the results match up with your expectations?**"
   ]
  },
  {
   "cell_type": "code",
   "execution_count": 7,
   "metadata": {},
   "outputs": [
    {
     "data": {
      "text/plain": [
       "(8.020706944109957, 4.1030005857111781e-08)"
      ]
     },
     "execution_count": 7,
     "metadata": {},
     "output_type": "execute_result"
    }
   ],
   "source": [
    "degreesOfFreedom = 23\n",
    "stats.t.ppf(0.975, degreesOfFreedom)\n",
    "\n",
    "# Calculates the T-test on TWO RELATED samples of scores, a and b.\n",
    "t_stat, p_value = stats.ttest_rel(a=dframe['Incongruent'],b=dframe['Congruent'])\n",
    "t_stat, p_value    #print values"
   ]
  },
  {
   "cell_type": "code",
   "execution_count": 8,
   "metadata": {},
   "outputs": [
    {
     "data": {
      "text/plain": [
       "0.99999995896999416"
      ]
     },
     "execution_count": 8,
     "metadata": {},
     "output_type": "execute_result"
    }
   ],
   "source": [
    "# Confidence\n",
    "H0_rejection_confidence = 1-p_value\n",
    "H0_rejection_confidence"
   ]
  },
  {
   "cell_type": "markdown",
   "metadata": {},
   "source": [
    "With a p_value of roughly 4.10e-8, we can reject the null hypothesis with at least 99% confidence. Thus, we can conclude that incongruent group and congruent group has different average population time to complete tasks."
   ]
  },
  {
   "cell_type": "markdown",
   "metadata": {},
   "source": [
    "## Reference\n",
    "* [About pandas dataframes](https://pandas.pydata.org/pandas-docs/stable/generated/pandas.DataFrame.html)\n",
    "* [About pandas visualization](http://pandas.pydata.org/pandas-docs/stable/visualization.html#visualization)\n",
    "* [scipy stats](https://docs.scipy.org/doc/scipy/reference/tutorial/stats.html)\n",
    "* [Latex Symbols](http://reu.dimacs.rutgers.edu/Symbols.pdf)\n",
    "* [Dependent T-Test](https://statistics.laerd.com/statistical-guides/dependent-t-test-statistical-guide-2.php)\n",
    "* [Determining Sample Size](https://www.qualtrics.com/blog/determining-sample-size/)\n",
    "* [About the null and alternative hypothesis](http://support.minitab.com/en-us/minitab/17/topic-library/basic-statistics-and-graphs/hypothesis-tests/basics/null-and-alternative-hypotheses/)\n",
    "* [Which chart or graph is right for you?](https://www.tableau.com/sites/default/files/media/which_chart_v6_final_0.pdf)"
   ]
  },
  {
   "cell_type": "code",
   "execution_count": null,
   "metadata": {},
   "outputs": [],
   "source": []
  }
 ],
 "metadata": {
  "kernelspec": {
   "display_name": "Python 3",
   "language": "python",
   "name": "python3"
  },
  "language_info": {
   "codemirror_mode": {
    "name": "ipython",
    "version": 3
   },
   "file_extension": ".py",
   "mimetype": "text/x-python",
   "name": "python",
   "nbconvert_exporter": "python",
   "pygments_lexer": "ipython3",
   "version": "3.6.3"
  }
 },
 "nbformat": 4,
 "nbformat_minor": 2
}
